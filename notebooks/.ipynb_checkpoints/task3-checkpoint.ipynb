{
 "cells": [
  {
   "cell_type": "code",
   "execution_count": 1,
   "metadata": {},
   "outputs": [],
   "source": [
    "import pandas as pd\n",
    "import numpy as np\n",
    "import seaborn as sns\n",
    "import matplotlib.pyplot as plt"
   ]
  },
  {
   "cell_type": "code",
   "execution_count": 2,
   "metadata": {},
   "outputs": [],
   "source": [
    "import warnings\n",
    "warnings.filterwarnings('ignore')\n",
    "pd.set_option('max_column', None)\n",
    "db = pd.read_csv('../data/Week1_challenge_data_source(CSV).csv', na_values=['?', None])\n"
   ]
  },
  {
   "cell_type": "code",
   "execution_count": 3,
   "metadata": {},
   "outputs": [],
   "source": [
    "db = db.drop(['Start',\n",
    " 'Start ms',\n",
    " 'End',\n",
    " 'End ms','Nb of sec with 125000B < Vol DL',\n",
    "       'Nb of sec with 1250B < Vol UL < 6250B',\n",
    "       'Nb of sec with 31250B < Vol DL < 125000B',\n",
    "       'Nb of sec with 37500B < Vol UL',\n",
    "       'Nb of sec with 6250B < Vol DL < 31250B',\n",
    "       'Nb of sec with 6250B < Vol UL < 37500B'],axis=1)"
   ]
  },
  {
   "cell_type": "code",
   "execution_count": 4,
   "metadata": {},
   "outputs": [],
   "source": [
    "db.dropna(subset=['Bearer Id'],inplace=True)"
   ]
  },
  {
   "cell_type": "code",
   "execution_count": 5,
   "metadata": {},
   "outputs": [],
   "source": [
    "# fill undefined rows with ffill method for columns ('Handset Manufacturer','Handset Type','IMEI')\n",
    "\n",
    "def fix_undefined(df, col):\n",
    "    df[col] = df[col].apply(lambda x: np.nan if x == 'undefined' else x)\n",
    "    df[col] = df[col].fillna(method='ffill')\n",
    "    return df[col]\n",
    "\n",
    "\n",
    "db['Handset Manufacturer'] = fix_undefined(db, 'Handset Manufacturer')\n",
    "db['Handset Type'] = fix_undefined(db, 'Handset Type')\n",
    "db['IMEI'] = fix_undefined(db, 'IMEI')\n"
   ]
  },
  {
   "cell_type": "markdown",
   "metadata": {},
   "source": [
    "To add DL and UL"
   ]
  },
  {
   "cell_type": "code",
   "execution_count": 6,
   "metadata": {},
   "outputs": [
    {
     "data": {
      "text/html": [
       "<div>\n",
       "<style scoped>\n",
       "    .dataframe tbody tr th:only-of-type {\n",
       "        vertical-align: middle;\n",
       "    }\n",
       "\n",
       "    .dataframe tbody tr th {\n",
       "        vertical-align: top;\n",
       "    }\n",
       "\n",
       "    .dataframe thead th {\n",
       "        text-align: right;\n",
       "    }\n",
       "</style>\n",
       "<table border=\"1\" class=\"dataframe\">\n",
       "  <thead>\n",
       "    <tr style=\"text-align: right;\">\n",
       "      <th></th>\n",
       "      <th>Bearer Id</th>\n",
       "      <th>Dur. (ms)</th>\n",
       "      <th>IMSI</th>\n",
       "      <th>MSISDN/Number</th>\n",
       "      <th>IMEI</th>\n",
       "      <th>Last Location Name</th>\n",
       "      <th>DL TP &lt; 50 Kbps (%)</th>\n",
       "      <th>50 Kbps &lt; DL TP &lt; 250 Kbps (%)</th>\n",
       "      <th>250 Kbps &lt; DL TP &lt; 1 Mbps (%)</th>\n",
       "      <th>DL TP &gt; 1 Mbps (%)</th>\n",
       "      <th>UL TP &lt; 10 Kbps (%)</th>\n",
       "      <th>10 Kbps &lt; UL TP &lt; 50 Kbps (%)</th>\n",
       "      <th>50 Kbps &lt; UL TP &lt; 300 Kbps (%)</th>\n",
       "      <th>UL TP &gt; 300 Kbps (%)</th>\n",
       "      <th>HTTP DL (Bytes)</th>\n",
       "      <th>HTTP UL (Bytes)</th>\n",
       "      <th>Activity Duration DL (ms)</th>\n",
       "      <th>Activity Duration UL (ms)</th>\n",
       "      <th>Dur. (ms).1</th>\n",
       "      <th>Handset Manufacturer</th>\n",
       "      <th>Handset Type</th>\n",
       "      <th>Nb of sec with Vol DL &lt; 6250B</th>\n",
       "      <th>Nb of sec with Vol UL &lt; 1250B</th>\n",
       "      <th>Social Media DL (Bytes)</th>\n",
       "      <th>Social Media UL (Bytes)</th>\n",
       "      <th>Google DL (Bytes)</th>\n",
       "      <th>Google UL (Bytes)</th>\n",
       "      <th>Email DL (Bytes)</th>\n",
       "      <th>Email UL (Bytes)</th>\n",
       "      <th>Youtube DL (Bytes)</th>\n",
       "      <th>Youtube UL (Bytes)</th>\n",
       "      <th>Netflix DL (Bytes)</th>\n",
       "      <th>Netflix UL (Bytes)</th>\n",
       "      <th>Gaming DL (Bytes)</th>\n",
       "      <th>Gaming UL (Bytes)</th>\n",
       "      <th>Other DL (Bytes)</th>\n",
       "      <th>Other UL (Bytes)</th>\n",
       "      <th>Total UL (Bytes)</th>\n",
       "      <th>Total DL (Bytes)</th>\n",
       "      <th>TCP</th>\n",
       "      <th>RTT</th>\n",
       "      <th>throughput</th>\n",
       "    </tr>\n",
       "  </thead>\n",
       "  <tbody>\n",
       "    <tr>\n",
       "      <th>0</th>\n",
       "      <td>1.311448e+19</td>\n",
       "      <td>1823652.0</td>\n",
       "      <td>2.082014e+14</td>\n",
       "      <td>3.366496e+10</td>\n",
       "      <td>3.552121e+13</td>\n",
       "      <td>9.16456699548519E+015</td>\n",
       "      <td>100.0</td>\n",
       "      <td>0.0</td>\n",
       "      <td>0.0</td>\n",
       "      <td>0.0</td>\n",
       "      <td>100.0</td>\n",
       "      <td>0.0</td>\n",
       "      <td>0.0</td>\n",
       "      <td>0.0</td>\n",
       "      <td>NaN</td>\n",
       "      <td>NaN</td>\n",
       "      <td>37624.0</td>\n",
       "      <td>38787.0</td>\n",
       "      <td>1.823653e+09</td>\n",
       "      <td>Samsung</td>\n",
       "      <td>Samsung Galaxy A5 Sm-A520F</td>\n",
       "      <td>213.0</td>\n",
       "      <td>214.0</td>\n",
       "      <td>1545765.0</td>\n",
       "      <td>24420.0</td>\n",
       "      <td>1634479.0</td>\n",
       "      <td>1271433.0</td>\n",
       "      <td>3563542.0</td>\n",
       "      <td>137762.0</td>\n",
       "      <td>15854611.0</td>\n",
       "      <td>2501332.0</td>\n",
       "      <td>8198936.0</td>\n",
       "      <td>9656251.0</td>\n",
       "      <td>278082303.0</td>\n",
       "      <td>14344150.0</td>\n",
       "      <td>171744450.0</td>\n",
       "      <td>8814393.0</td>\n",
       "      <td>36749741.0</td>\n",
       "      <td>308879636.0</td>\n",
       "      <td>NaN</td>\n",
       "      <td>47.0</td>\n",
       "      <td>67.0</td>\n",
       "    </tr>\n",
       "    <tr>\n",
       "      <th>1</th>\n",
       "      <td>1.311448e+19</td>\n",
       "      <td>1365104.0</td>\n",
       "      <td>2.082019e+14</td>\n",
       "      <td>3.368185e+10</td>\n",
       "      <td>3.579401e+13</td>\n",
       "      <td>L77566A</td>\n",
       "      <td>100.0</td>\n",
       "      <td>0.0</td>\n",
       "      <td>0.0</td>\n",
       "      <td>0.0</td>\n",
       "      <td>100.0</td>\n",
       "      <td>0.0</td>\n",
       "      <td>0.0</td>\n",
       "      <td>0.0</td>\n",
       "      <td>NaN</td>\n",
       "      <td>NaN</td>\n",
       "      <td>168.0</td>\n",
       "      <td>3560.0</td>\n",
       "      <td>1.365104e+09</td>\n",
       "      <td>Samsung</td>\n",
       "      <td>Samsung Galaxy J5 (Sm-J530)</td>\n",
       "      <td>971.0</td>\n",
       "      <td>1022.0</td>\n",
       "      <td>1926113.0</td>\n",
       "      <td>7165.0</td>\n",
       "      <td>3493924.0</td>\n",
       "      <td>920172.0</td>\n",
       "      <td>629046.0</td>\n",
       "      <td>308339.0</td>\n",
       "      <td>20247395.0</td>\n",
       "      <td>19111729.0</td>\n",
       "      <td>18338413.0</td>\n",
       "      <td>17227132.0</td>\n",
       "      <td>608750074.0</td>\n",
       "      <td>1170709.0</td>\n",
       "      <td>526904238.0</td>\n",
       "      <td>15055145.0</td>\n",
       "      <td>53800391.0</td>\n",
       "      <td>653384965.0</td>\n",
       "      <td>NaN</td>\n",
       "      <td>70.0</td>\n",
       "      <td>42.0</td>\n",
       "    </tr>\n",
       "  </tbody>\n",
       "</table>\n",
       "</div>"
      ],
      "text/plain": [
       "      Bearer Id  Dur. (ms)          IMSI  MSISDN/Number          IMEI  \\\n",
       "0  1.311448e+19  1823652.0  2.082014e+14   3.366496e+10  3.552121e+13   \n",
       "1  1.311448e+19  1365104.0  2.082019e+14   3.368185e+10  3.579401e+13   \n",
       "\n",
       "      Last Location Name  DL TP < 50 Kbps (%)  50 Kbps < DL TP < 250 Kbps (%)  \\\n",
       "0  9.16456699548519E+015                100.0                             0.0   \n",
       "1                L77566A                100.0                             0.0   \n",
       "\n",
       "   250 Kbps < DL TP < 1 Mbps (%)  DL TP > 1 Mbps (%)  UL TP < 10 Kbps (%)  \\\n",
       "0                            0.0                 0.0                100.0   \n",
       "1                            0.0                 0.0                100.0   \n",
       "\n",
       "   10 Kbps < UL TP < 50 Kbps (%)  50 Kbps < UL TP < 300 Kbps (%)  \\\n",
       "0                            0.0                             0.0   \n",
       "1                            0.0                             0.0   \n",
       "\n",
       "   UL TP > 300 Kbps (%)  HTTP DL (Bytes)  HTTP UL (Bytes)  \\\n",
       "0                   0.0              NaN              NaN   \n",
       "1                   0.0              NaN              NaN   \n",
       "\n",
       "   Activity Duration DL (ms)  Activity Duration UL (ms)   Dur. (ms).1  \\\n",
       "0                    37624.0                    38787.0  1.823653e+09   \n",
       "1                      168.0                     3560.0  1.365104e+09   \n",
       "\n",
       "  Handset Manufacturer                 Handset Type  \\\n",
       "0              Samsung   Samsung Galaxy A5 Sm-A520F   \n",
       "1              Samsung  Samsung Galaxy J5 (Sm-J530)   \n",
       "\n",
       "   Nb of sec with Vol DL < 6250B  Nb of sec with Vol UL < 1250B  \\\n",
       "0                          213.0                          214.0   \n",
       "1                          971.0                         1022.0   \n",
       "\n",
       "   Social Media DL (Bytes)  Social Media UL (Bytes)  Google DL (Bytes)  \\\n",
       "0                1545765.0                  24420.0          1634479.0   \n",
       "1                1926113.0                   7165.0          3493924.0   \n",
       "\n",
       "   Google UL (Bytes)  Email DL (Bytes)  Email UL (Bytes)  Youtube DL (Bytes)  \\\n",
       "0          1271433.0         3563542.0          137762.0          15854611.0   \n",
       "1           920172.0          629046.0          308339.0          20247395.0   \n",
       "\n",
       "   Youtube UL (Bytes)  Netflix DL (Bytes)  Netflix UL (Bytes)  \\\n",
       "0           2501332.0           8198936.0           9656251.0   \n",
       "1          19111729.0          18338413.0          17227132.0   \n",
       "\n",
       "   Gaming DL (Bytes)  Gaming UL (Bytes)  Other DL (Bytes)  Other UL (Bytes)  \\\n",
       "0        278082303.0         14344150.0       171744450.0         8814393.0   \n",
       "1        608750074.0          1170709.0       526904238.0        15055145.0   \n",
       "\n",
       "   Total UL (Bytes)  Total DL (Bytes)  TCP   RTT  throughput  \n",
       "0        36749741.0       308879636.0  NaN  47.0        67.0  \n",
       "1        53800391.0       653384965.0  NaN  70.0        42.0  "
      ]
     },
     "execution_count": 6,
     "metadata": {},
     "output_type": "execute_result"
    }
   ],
   "source": [
    "db['TCP'] = db['TCP DL Retrans. Vol (Bytes)'] + db['TCP UL Retrans. Vol (Bytes)']\n",
    "db['RTT'] = db['Avg RTT DL (ms)'] + db['Avg RTT UL (ms)']\n",
    "db['throughput'] = db['Avg Bearer TP UL (kbps)'] + db['Avg Bearer TP DL (kbps)']\n",
    "db = db.drop(['TCP DL Retrans. Vol (Bytes)','TCP UL Retrans. Vol (Bytes)','Avg RTT UL (ms)',\\\n",
    "        'Avg RTT DL (ms)', 'Avg Bearer TP UL (kbps)','Avg Bearer TP DL (kbps)'], axis=1)\n",
    "db.head(2)"
   ]
  },
  {
   "cell_type": "code",
   "execution_count": 38,
   "metadata": {},
   "outputs": [],
   "source": [
    "db['TCP']=db['TCP'].fillna(db['TCP'].mean())\n",
    "db['RTT']=db['RTT'].fillna(db['RTT'].mean())\n",
    "db['throughput']=db['throughput'].fillna(db['throughput'].mean())"
   ]
  },
  {
   "cell_type": "code",
   "execution_count": 7,
   "metadata": {},
   "outputs": [],
   "source": [
    "def plot_box(df:pd.DataFrame, x_col:str, title:str) -> None:\n",
    "    plt.figure(figsize=(12, 7))\n",
    "    sns.boxplot(data = df, x=x_col)\n",
    "    plt.title(title, size=20)\n",
    "    plt.xticks(rotation=75, fontsize=14)\n",
    "    plt.show()"
   ]
  },
  {
   "cell_type": "code",
   "execution_count": 39,
   "metadata": {
    "scrolled": true
   },
   "outputs": [
    {
     "data": {
      "image/png": "[encoded data removed]",
      "text/plain": [
       "<Figure size 864x504 with 1 Axes>"
      ]
     },
     "metadata": {
      "needs_background": "light"
     },
     "output_type": "display_data"
    }
   ],
   "source": [
    "plot_box(db, 'TCP', 'TCP')"
   ]
  },
  {
   "cell_type": "code",
   "execution_count": 51,
   "metadata": {},
   "outputs": [],
   "source": [
    "# for TCP\n",
    "def fix_outlier_tcp(df, column):\n",
    "    fixed = np.where(df[column] > df[column].quantile(0.7), df[column].mean(),df[column])\n",
    "    return fixed"
   ]
  },
  {
   "cell_type": "code",
   "execution_count": 52,
   "metadata": {},
   "outputs": [],
   "source": [
    "db[\"fixed_TCP\"] = fix_outlier_tcp(db, \"TCP\")"
   ]
  },
  {
   "cell_type": "code",
   "execution_count": 53,
   "metadata": {},
   "outputs": [
    {
     "data": {
      "image/png": "[encoded data removed]",
      "text/plain": [
       "<Figure size 864x504 with 1 Axes>"
      ]
     },
     "metadata": {
      "needs_background": "light"
     },
     "output_type": "display_data"
    }
   ],
   "source": [
    "plot_box(db, 'fixed_TCP', 'Tcp')"
   ]
  },
  {
   "cell_type": "code",
   "execution_count": 66,
   "metadata": {},
   "outputs": [
    {
     "data": {
      "image/png": "[encoded data removed]",
      "text/plain": [
       "<Figure size 864x504 with 1 Axes>"
      ]
     },
     "metadata": {
      "needs_background": "light"
     },
     "output_type": "display_data"
    }
   ],
   "source": [
    "plot_box(db, 'throughput', 'Throuput')"
   ]
  },
  {
   "cell_type": "code",
   "execution_count": 67,
   "metadata": {},
   "outputs": [],
   "source": [
    "def fix_outlier(df, column):\n",
    "    fixed = np.where(df[column] > df[column].quantile(0.75), df[column].mean(),df[column])\n",
    "    return fixed\n"
   ]
  },
  {
   "cell_type": "code",
   "execution_count": 68,
   "metadata": {},
   "outputs": [],
   "source": [
    "db[\"fixed_throughput\"] = fix_outlier(db, \"throughput\")"
   ]
  },
  {
   "cell_type": "code",
   "execution_count": 69,
   "metadata": {
    "scrolled": false
   },
   "outputs": [
    {
     "data": {
      "image/png": "[encoded data removed]",
      "text/plain": [
       "<Figure size 864x504 with 1 Axes>"
      ]
     },
     "metadata": {
      "needs_background": "light"
     },
     "output_type": "display_data"
    }
   ],
   "source": [
    "plot_box(db, 'fixed_throughput', 'fixed_throughput')"
   ]
  },
  {
   "cell_type": "code",
   "execution_count": 60,
   "metadata": {},
   "outputs": [
    {
     "data": {
      "image/png": "[encoded data removed]",
      "text/plain": [
       "<Figure size 864x504 with 1 Axes>"
      ]
     },
     "metadata": {
      "needs_background": "light"
     },
     "output_type": "display_data"
    }
   ],
   "source": [
    "plot_box(db, 'RTT', 'RTT')"
   ]
  },
  {
   "cell_type": "code",
   "execution_count": 61,
   "metadata": {},
   "outputs": [],
   "source": [
    "db[\"fixed_RTT\"] = np.where(db['RTT'] > db['RTT'].quantile(0.75), db['RTT'].median(),db['RTT'])"
   ]
  },
  {
   "cell_type": "code",
   "execution_count": 62,
   "metadata": {},
   "outputs": [
    {
     "data": {
      "image/png": "[encoded data removed]",
      "text/plain": [
       "<Figure size 864x504 with 1 Axes>"
      ]
     },
     "metadata": {
      "needs_background": "light"
     },
     "output_type": "display_data"
    }
   ],
   "source": [
    "plot_box(db, 'fixed_RTT', 'fixed_RTT')"
   ]
  },
  {
   "cell_type": "markdown",
   "metadata": {},
   "source": [
    "Aggregate, per customer:"
   ]
  },
  {
   "cell_type": "code",
   "execution_count": 70,
   "metadata": {},
   "outputs": [
    {
     "data": {
      "text/html": [
       "<div>\n",
       "<style scoped>\n",
       "    .dataframe tbody tr th:only-of-type {\n",
       "        vertical-align: middle;\n",
       "    }\n",
       "\n",
       "    .dataframe tbody tr th {\n",
       "        vertical-align: top;\n",
       "    }\n",
       "\n",
       "    .dataframe thead th {\n",
       "        text-align: right;\n",
       "    }\n",
       "</style>\n",
       "<table border=\"1\" class=\"dataframe\">\n",
       "  <thead>\n",
       "    <tr style=\"text-align: right;\">\n",
       "      <th></th>\n",
       "      <th></th>\n",
       "      <th>fixed_RTT</th>\n",
       "      <th>fixed_TCP</th>\n",
       "      <th>fixed_throughput</th>\n",
       "    </tr>\n",
       "    <tr>\n",
       "      <th>MSISDN/Number</th>\n",
       "      <th>Handset Type</th>\n",
       "      <th></th>\n",
       "      <th></th>\n",
       "      <th></th>\n",
       "    </tr>\n",
       "  </thead>\n",
       "  <tbody>\n",
       "    <tr>\n",
       "      <th rowspan=\"3\" valign=\"top\">3.360100e+10</th>\n",
       "      <th>Huawei P20 Lite Huawei Nova 3E</th>\n",
       "      <td>46.000000</td>\n",
       "      <td>2.590595e+07</td>\n",
       "      <td>76.0</td>\n",
       "    </tr>\n",
       "    <tr>\n",
       "      <th>Apple iPhone 7 (A1778)</th>\n",
       "      <td>31.000000</td>\n",
       "      <td>2.590595e+07</td>\n",
       "      <td>99.0</td>\n",
       "    </tr>\n",
       "    <tr>\n",
       "      <th>Apple iPhone 7 Plus (A1784)</th>\n",
       "      <td>123.444694</td>\n",
       "      <td>2.590595e+07</td>\n",
       "      <td>97.0</td>\n",
       "    </tr>\n",
       "    <tr>\n",
       "      <th>3.360101e+10</th>\n",
       "      <th>Apple iPhone 5S (A1457)</th>\n",
       "      <td>84.000000</td>\n",
       "      <td>2.590595e+07</td>\n",
       "      <td>248.0</td>\n",
       "    </tr>\n",
       "  </tbody>\n",
       "</table>\n",
       "</div>"
      ],
      "text/plain": [
       "                                               fixed_RTT     fixed_TCP  \\\n",
       "MSISDN/Number Handset Type                                               \n",
       "3.360100e+10  Huawei P20 Lite Huawei Nova 3E   46.000000  2.590595e+07   \n",
       "              Apple iPhone 7 (A1778)           31.000000  2.590595e+07   \n",
       "              Apple iPhone 7 Plus (A1784)     123.444694  2.590595e+07   \n",
       "3.360101e+10  Apple iPhone 5S (A1457)          84.000000  2.590595e+07   \n",
       "\n",
       "                                              fixed_throughput  \n",
       "MSISDN/Number Handset Type                                      \n",
       "3.360100e+10  Huawei P20 Lite Huawei Nova 3E              76.0  \n",
       "              Apple iPhone 7 (A1778)                      99.0  \n",
       "              Apple iPhone 7 Plus (A1784)                 97.0  \n",
       "3.360101e+10  Apple iPhone 5S (A1457)                    248.0  "
      ]
     },
     "execution_count": 70,
     "metadata": {},
     "output_type": "execute_result"
    }
   ],
   "source": [
    "db.groupby(['MSISDN/Number','Handset Type']).agg({'fixed_RTT':'sum','fixed_TCP':'sum','fixed_throughput':'sum'})[:4]"
   ]
  },
  {
   "cell_type": "code",
   "execution_count": 71,
   "metadata": {},
   "outputs": [
    {
     "data": {
      "text/plain": [
       "34636     4.344116e+09\n",
       "140797    4.301477e+09\n",
       "77950     4.294432e+09\n",
       "135677    4.291465e+09\n",
       "3741      4.288121e+09\n",
       "119667    4.275492e+09\n",
       "39608     4.268647e+09\n",
       "59011     4.261616e+09\n",
       "76971     4.260174e+09\n",
       "41182     4.254660e+09\n",
       "Name: TCP, dtype: float64"
      ]
     },
     "execution_count": 71,
     "metadata": {},
     "output_type": "execute_result"
    }
   ],
   "source": [
    "db['TCP'].sort_values(ascending=False)[:10]"
   ]
  },
  {
   "cell_type": "code",
   "execution_count": 72,
   "metadata": {},
   "outputs": [
    {
     "data": {
      "text/plain": [
       "30155     96924.0\n",
       "29916     64641.0\n",
       "5963      54848.0\n",
       "22839     27278.0\n",
       "23442     26300.0\n",
       "1361      25922.0\n",
       "81256     25715.0\n",
       "97312     25388.0\n",
       "100575    24738.0\n",
       "97905     20980.0\n",
       "Name: RTT, dtype: float64"
      ]
     },
     "execution_count": 72,
     "metadata": {},
     "output_type": "execute_result"
    }
   ],
   "source": [
    "db['RTT'].sort_values(ascending=False)[:10]"
   ]
  },
  {
   "cell_type": "code",
   "execution_count": 22,
   "metadata": {},
   "outputs": [
    {
     "data": {
      "text/plain": [
       "120876    382262.0\n",
       "143670    313244.0\n",
       "141250    304299.0\n",
       "91298     300546.0\n",
       "116794    283931.0\n",
       "141449    281144.0\n",
       "149616    277152.0\n",
       "92177     276205.0\n",
       "116550    274052.0\n",
       "117776    269888.0\n",
       "Name: throughput, dtype: float64"
      ]
     },
     "execution_count": 22,
     "metadata": {},
     "output_type": "execute_result"
    }
   ],
   "source": [
    "db['throughput'].sort_values(ascending=False)[:10]"
   ]
  },
  {
   "cell_type": "code",
   "execution_count": 73,
   "metadata": {},
   "outputs": [
    {
     "data": {
      "text/plain": [
       "143594     86.0\n",
       "111100     97.0\n",
       "18417     106.0\n",
       "13142     108.0\n",
       "97061     113.0\n",
       "8794      128.0\n",
       "99947     129.0\n",
       "83214     134.0\n",
       "95955     134.0\n",
       "12849     143.0\n",
       "Name: TCP, dtype: float64"
      ]
     },
     "execution_count": 73,
     "metadata": {},
     "output_type": "execute_result"
    }
   ],
   "source": [
    "db['TCP'].sort_values()[:10]"
   ]
  },
  {
   "cell_type": "code",
   "execution_count": 74,
   "metadata": {},
   "outputs": [
    {
     "data": {
      "text/plain": [
       "143878    0.0\n",
       "124538    0.0\n",
       "42602     0.0\n",
       "103321    0.0\n",
       "71738     2.0\n",
       "50966     4.0\n",
       "144923    4.0\n",
       "103544    5.0\n",
       "8756      6.0\n",
       "123210    6.0\n",
       "Name: RTT, dtype: float64"
      ]
     },
     "execution_count": 74,
     "metadata": {},
     "output_type": "execute_result"
    }
   ],
   "source": [
    "db['RTT'].sort_values()[:10]"
   ]
  },
  {
   "cell_type": "code",
   "execution_count": 25,
   "metadata": {},
   "outputs": [
    {
     "data": {
      "text/plain": [
       "121636    0.0\n",
       "51720     0.0\n",
       "111208    0.0\n",
       "102654    0.0\n",
       "17433     0.0\n",
       "95448     0.0\n",
       "2460      0.0\n",
       "65133     0.0\n",
       "14964     0.0\n",
       "102035    0.0\n",
       "Name: throughput, dtype: float64"
      ]
     },
     "execution_count": 25,
     "metadata": {},
     "output_type": "execute_result"
    }
   ],
   "source": [
    "db['throughput'].sort_values()[:10]"
   ]
  },
  {
   "cell_type": "code",
   "execution_count": 75,
   "metadata": {},
   "outputs": [
    {
     "data": {
      "text/html": [
       "<div>\n",
       "<style scoped>\n",
       "    .dataframe tbody tr th:only-of-type {\n",
       "        vertical-align: middle;\n",
       "    }\n",
       "\n",
       "    .dataframe tbody tr th {\n",
       "        vertical-align: top;\n",
       "    }\n",
       "\n",
       "    .dataframe thead th {\n",
       "        text-align: right;\n",
       "    }\n",
       "</style>\n",
       "<table border=\"1\" class=\"dataframe\">\n",
       "  <thead>\n",
       "    <tr style=\"text-align: right;\">\n",
       "      <th></th>\n",
       "      <th>throughput</th>\n",
       "    </tr>\n",
       "    <tr>\n",
       "      <th>Handset Type</th>\n",
       "      <th></th>\n",
       "    </tr>\n",
       "  </thead>\n",
       "  <tbody>\n",
       "    <tr>\n",
       "      <th>A-Link Telecom I. Cubot A5</th>\n",
       "      <td>23510.0</td>\n",
       "    </tr>\n",
       "    <tr>\n",
       "      <th>A-Link Telecom I. Cubot Note Plus</th>\n",
       "      <td>6699.0</td>\n",
       "    </tr>\n",
       "    <tr>\n",
       "      <th>A-Link Telecom I. Cubot Note S</th>\n",
       "      <td>8937.0</td>\n",
       "    </tr>\n",
       "    <tr>\n",
       "      <th>A-Link Telecom I. Cubot Nova</th>\n",
       "      <td>56217.0</td>\n",
       "    </tr>\n",
       "    <tr>\n",
       "      <th>A-Link Telecom I. Cubot Power</th>\n",
       "      <td>69468.0</td>\n",
       "    </tr>\n",
       "    <tr>\n",
       "      <th>A-Link Telecom I. Cubot R9</th>\n",
       "      <td>4039.0</td>\n",
       "    </tr>\n",
       "    <tr>\n",
       "      <th>A-Link Telecom I. Cubot X18 Plus</th>\n",
       "      <td>12559.0</td>\n",
       "    </tr>\n",
       "    <tr>\n",
       "      <th>Acer Liquid M220</th>\n",
       "      <td>34.0</td>\n",
       "    </tr>\n",
       "    <tr>\n",
       "      <th>Acer Liquid Z220</th>\n",
       "      <td>552.0</td>\n",
       "    </tr>\n",
       "    <tr>\n",
       "      <th>Acer Liquid Z530</th>\n",
       "      <td>334.0</td>\n",
       "    </tr>\n",
       "  </tbody>\n",
       "</table>\n",
       "</div>"
      ],
      "text/plain": [
       "                                   throughput\n",
       "Handset Type                                 \n",
       "A-Link Telecom I. Cubot A5            23510.0\n",
       "A-Link Telecom I. Cubot Note Plus      6699.0\n",
       "A-Link Telecom I. Cubot Note S         8937.0\n",
       "A-Link Telecom I. Cubot Nova          56217.0\n",
       "A-Link Telecom I. Cubot Power         69468.0\n",
       "A-Link Telecom I. Cubot R9             4039.0\n",
       "A-Link Telecom I. Cubot X18 Plus      12559.0\n",
       "Acer Liquid M220                         34.0\n",
       "Acer Liquid Z220                        552.0\n",
       "Acer Liquid Z530                        334.0"
      ]
     },
     "execution_count": 75,
     "metadata": {},
     "output_type": "execute_result"
    }
   ],
   "source": [
    "db.groupby('Handset Type').agg({'throughput':'mean'})[:10]"
   ]
  },
  {
   "cell_type": "code",
   "execution_count": 76,
   "metadata": {
    "scrolled": false
   },
   "outputs": [
    {
     "data": {
      "text/html": [
       "<div>\n",
       "<style scoped>\n",
       "    .dataframe tbody tr th:only-of-type {\n",
       "        vertical-align: middle;\n",
       "    }\n",
       "\n",
       "    .dataframe tbody tr th {\n",
       "        vertical-align: top;\n",
       "    }\n",
       "\n",
       "    .dataframe thead th {\n",
       "        text-align: right;\n",
       "    }\n",
       "</style>\n",
       "<table border=\"1\" class=\"dataframe\">\n",
       "  <thead>\n",
       "    <tr style=\"text-align: right;\">\n",
       "      <th></th>\n",
       "      <th>TCP</th>\n",
       "    </tr>\n",
       "    <tr>\n",
       "      <th>Handset Type</th>\n",
       "      <th></th>\n",
       "    </tr>\n",
       "  </thead>\n",
       "  <tbody>\n",
       "    <tr>\n",
       "      <th>A-Link Telecom I. Cubot A5</th>\n",
       "      <td>2.590595e+07</td>\n",
       "    </tr>\n",
       "    <tr>\n",
       "      <th>A-Link Telecom I. Cubot Note Plus</th>\n",
       "      <td>6.162130e+05</td>\n",
       "    </tr>\n",
       "    <tr>\n",
       "      <th>A-Link Telecom I. Cubot Note S</th>\n",
       "      <td>4.141173e+07</td>\n",
       "    </tr>\n",
       "    <tr>\n",
       "      <th>A-Link Telecom I. Cubot Nova</th>\n",
       "      <td>1.371700e+05</td>\n",
       "    </tr>\n",
       "    <tr>\n",
       "      <th>A-Link Telecom I. Cubot Power</th>\n",
       "      <td>8.041000e+03</td>\n",
       "    </tr>\n",
       "    <tr>\n",
       "      <th>A-Link Telecom I. Cubot R9</th>\n",
       "      <td>3.099900e+04</td>\n",
       "    </tr>\n",
       "    <tr>\n",
       "      <th>A-Link Telecom I. Cubot X18 Plus</th>\n",
       "      <td>1.429902e+07</td>\n",
       "    </tr>\n",
       "    <tr>\n",
       "      <th>Acer Liquid M220</th>\n",
       "      <td>2.590595e+07</td>\n",
       "    </tr>\n",
       "    <tr>\n",
       "      <th>Acer Liquid Z220</th>\n",
       "      <td>1.743870e+05</td>\n",
       "    </tr>\n",
       "    <tr>\n",
       "      <th>Acer Liquid Z530</th>\n",
       "      <td>2.590595e+07</td>\n",
       "    </tr>\n",
       "  </tbody>\n",
       "</table>\n",
       "</div>"
      ],
      "text/plain": [
       "                                            TCP\n",
       "Handset Type                                   \n",
       "A-Link Telecom I. Cubot A5         2.590595e+07\n",
       "A-Link Telecom I. Cubot Note Plus  6.162130e+05\n",
       "A-Link Telecom I. Cubot Note S     4.141173e+07\n",
       "A-Link Telecom I. Cubot Nova       1.371700e+05\n",
       "A-Link Telecom I. Cubot Power      8.041000e+03\n",
       "A-Link Telecom I. Cubot R9         3.099900e+04\n",
       "A-Link Telecom I. Cubot X18 Plus   1.429902e+07\n",
       "Acer Liquid M220                   2.590595e+07\n",
       "Acer Liquid Z220                   1.743870e+05\n",
       "Acer Liquid Z530                   2.590595e+07"
      ]
     },
     "execution_count": 76,
     "metadata": {},
     "output_type": "execute_result"
    }
   ],
   "source": [
    "db.groupby('Handset Type').agg({'TCP':'mean'})[:10]"
   ]
  },
  {
   "cell_type": "markdown",
   "metadata": {},
   "source": [
    "Normalizing:"
   ]
  },
  {
   "cell_type": "code",
   "execution_count": 77,
   "metadata": {},
   "outputs": [
    {
     "data": {
      "text/html": [
       "<div>\n",
       "<style scoped>\n",
       "    .dataframe tbody tr th:only-of-type {\n",
       "        vertical-align: middle;\n",
       "    }\n",
       "\n",
       "    .dataframe tbody tr th {\n",
       "        vertical-align: top;\n",
       "    }\n",
       "\n",
       "    .dataframe thead th {\n",
       "        text-align: right;\n",
       "    }\n",
       "</style>\n",
       "<table border=\"1\" class=\"dataframe\">\n",
       "  <thead>\n",
       "    <tr style=\"text-align: right;\">\n",
       "      <th></th>\n",
       "      <th>fixed_RTT</th>\n",
       "      <th>fixed_TCP</th>\n",
       "      <th>fixed_throughput</th>\n",
       "    </tr>\n",
       "  </thead>\n",
       "  <tbody>\n",
       "    <tr>\n",
       "      <th>0</th>\n",
       "      <td>0.000002</td>\n",
       "      <td>1.0</td>\n",
       "      <td>2.586278e-06</td>\n",
       "    </tr>\n",
       "    <tr>\n",
       "      <th>1</th>\n",
       "      <td>0.000003</td>\n",
       "      <td>1.0</td>\n",
       "      <td>1.621249e-06</td>\n",
       "    </tr>\n",
       "    <tr>\n",
       "      <th>2</th>\n",
       "      <td>0.000005</td>\n",
       "      <td>1.0</td>\n",
       "      <td>5.790176e-07</td>\n",
       "    </tr>\n",
       "  </tbody>\n",
       "</table>\n",
       "</div>"
      ],
      "text/plain": [
       "   fixed_RTT  fixed_TCP  fixed_throughput\n",
       "0   0.000002        1.0      2.586278e-06\n",
       "1   0.000003        1.0      1.621249e-06\n",
       "2   0.000005        1.0      5.790176e-07"
      ]
     },
     "execution_count": 77,
     "metadata": {},
     "output_type": "execute_result"
    }
   ],
   "source": [
    "from sklearn.preprocessing import Normalizer\n",
    "normalizer = Normalizer()\n",
    "\n",
    "column_names_to_normalize = ['fixed_RTT','fixed_TCP','fixed_throughput']\n",
    "X = db[column_names_to_normalize].values\n",
    "x_scaled = normalizer.fit_transform(X, y =None)\n",
    "db_temp = pd.DataFrame(x_scaled, columns=column_names_to_normalize, index = db.index)\n",
    "db_temp.head(3)\n",
    "# db[column_names_to_normalize] = db_temp"
   ]
  },
  {
   "cell_type": "markdown",
   "metadata": {},
   "source": [
    "K-means Clustering:"
   ]
  },
  {
   "cell_type": "code",
   "execution_count": 78,
   "metadata": {},
   "outputs": [],
   "source": [
    "X = db_temp.values\n",
    "from sklearn.cluster import KMeans\n",
    "#fitting kmeans to dataset\n",
    "kmeans = KMeans(n_clusters=3, init= 'k-means++', n_init = 10, max_iter = 300, random_state= 0 )\n",
    "Y_kmeans = kmeans.fit_predict(X)\n",
    "\n",
    "cluster_1 = pd.DataFrame(X[Y_kmeans == 0], columns=column_names_to_normalize)\n",
    "cluster_2 = pd.DataFrame(X[Y_kmeans == 1], columns=column_names_to_normalize)\n",
    "cluster_3 = pd.DataFrame(X[Y_kmeans == 2], columns=column_names_to_normalize)"
   ]
  },
  {
   "cell_type": "code",
   "execution_count": 82,
   "metadata": {},
   "outputs": [
    {
     "data": {
      "image/png": "[encoded data removed]",
      "text/plain": [
       "<Figure size 432x288 with 1 Axes>"
      ]
     },
     "metadata": {
      "needs_background": "light"
     },
     "output_type": "display_data"
    }
   ],
   "source": [
    "#visualizing clusters\n",
    "plt.scatter(X[Y_kmeans == 0,0], X[Y_kmeans==0,1 ], s = 100, c='red', label= 'cluster1')\n",
    "plt.scatter(X[Y_kmeans == 1,0], X[Y_kmeans==1,1 ], s = 100, c='cyan', label= 'cluster2')\n",
    "plt.scatter(X[Y_kmeans == 2,0], X[Y_kmeans==2,1 ], s = 100, c='green', label= 'cluster3')\n",
    "plt.title('Clusters RTT vs TCP')\n",
    "plt.xlabel('fixed_RTT')\n",
    "plt.ylabel('fixed_TCP')\n",
    "plt.legend()\n",
    "plt.show()"
   ]
  },
  {
   "cell_type": "code",
   "execution_count": 81,
   "metadata": {},
   "outputs": [
    {
     "data": {
      "image/png": "[encoded data removed]",
      "text/plain": [
       "<Figure size 432x288 with 1 Axes>"
      ]
     },
     "metadata": {
      "needs_background": "light"
     },
     "output_type": "display_data"
    }
   ],
   "source": [
    "#visualizing clusters\n",
    "plt.scatter(X[Y_kmeans == 0,0], X[Y_kmeans==0,2 ], s = 100, c='red', label= 'cluster1')\n",
    "plt.scatter(X[Y_kmeans == 1,0], X[Y_kmeans==1,2 ], s = 100, c='cyan', label= 'cluster2')\n",
    "plt.scatter(X[Y_kmeans == 2,0], X[Y_kmeans==2,2 ], s = 100, c='green', label= 'cluster3')\n",
    "plt.title('Clusters RTT vs throughput')\n",
    "plt.xlabel('fixed_RTT')\n",
    "plt.ylabel('fixed_throughput')\n",
    "plt.legend()\n",
    "plt.show()"
   ]
  },
  {
   "cell_type": "code",
   "execution_count": 83,
   "metadata": {},
   "outputs": [
    {
     "data": {
      "image/png": "[encoded data removed]",
      "text/plain": [
       "<Figure size 432x288 with 1 Axes>"
      ]
     },
     "metadata": {
      "needs_background": "light"
     },
     "output_type": "display_data"
    }
   ],
   "source": [
    "#visualizing clusters\n",
    "plt.scatter(X[Y_kmeans == 0,1], X[Y_kmeans==0,2 ], s = 100, c='red', label= 'cluster1')\n",
    "plt.scatter(X[Y_kmeans == 1,1], X[Y_kmeans==1,2 ], s = 100, c='cyan', label= 'cluster2')\n",
    "plt.scatter(X[Y_kmeans == 2,1], X[Y_kmeans==2,2 ], s = 100, c='green', label= 'cluster3')\n",
    "plt.title('Clusters TCP vs throughput')\n",
    "plt.xlabel('fixed_TCP')\n",
    "plt.ylabel('fixed_throughput')\n",
    "plt.legend()\n",
    "plt.show()"
   ]
  },
  {
   "cell_type": "markdown",
   "metadata": {},
   "source": [
    "Exporting clean data for dashboard:"
   ]
  },
  {
   "cell_type": "code",
   "execution_count": 87,
   "metadata": {},
   "outputs": [],
   "source": [
    "exp = db[['fixed_RTT','fixed_TCP','fixed_throughput','MSISDN/Number']]"
   ]
  },
  {
   "cell_type": "code",
   "execution_count": 89,
   "metadata": {},
   "outputs": [],
   "source": [
    "data = pd.read_csv('../data/visual_data.csv', na_values=['?', None])"
   ]
  },
  {
   "cell_type": "code",
   "execution_count": 95,
   "metadata": {},
   "outputs": [
    {
     "data": {
      "text/html": [
       "<div>\n",
       "<style scoped>\n",
       "    .dataframe tbody tr th:only-of-type {\n",
       "        vertical-align: middle;\n",
       "    }\n",
       "\n",
       "    .dataframe tbody tr th {\n",
       "        vertical-align: top;\n",
       "    }\n",
       "\n",
       "    .dataframe thead th {\n",
       "        text-align: right;\n",
       "    }\n",
       "</style>\n",
       "<table border=\"1\" class=\"dataframe\">\n",
       "  <thead>\n",
       "    <tr style=\"text-align: right;\">\n",
       "      <th></th>\n",
       "      <th>MSISDN/Number</th>\n",
       "      <th>Number of sessions</th>\n",
       "      <th>Dur. (ms)</th>\n",
       "      <th>HTTP (Bytes)</th>\n",
       "      <th>Social Media (Bytes)</th>\n",
       "      <th>Google (Bytes)</th>\n",
       "      <th>Email (Bytes)</th>\n",
       "      <th>Youtube (Bytes)</th>\n",
       "      <th>Netflix (Bytes)</th>\n",
       "      <th>Gaming (Bytes)</th>\n",
       "      <th>Other (Bytes)</th>\n",
       "      <th>Total (Bytes)</th>\n",
       "      <th>fixed_RTT</th>\n",
       "      <th>fixed_TCP</th>\n",
       "      <th>fixed_throughput</th>\n",
       "    </tr>\n",
       "  </thead>\n",
       "  <tbody>\n",
       "    <tr>\n",
       "      <th>count</th>\n",
       "      <td>1.485060e+05</td>\n",
       "      <td>148506.000000</td>\n",
       "      <td>1.485060e+05</td>\n",
       "      <td>1.485060e+05</td>\n",
       "      <td>1.485060e+05</td>\n",
       "      <td>1.485060e+05</td>\n",
       "      <td>1.485060e+05</td>\n",
       "      <td>1.485060e+05</td>\n",
       "      <td>1.485060e+05</td>\n",
       "      <td>1.485060e+05</td>\n",
       "      <td>1.485060e+05</td>\n",
       "      <td>1.485060e+05</td>\n",
       "      <td>148506.000000</td>\n",
       "      <td>1.485060e+05</td>\n",
       "      <td>148506.000000</td>\n",
       "    </tr>\n",
       "    <tr>\n",
       "      <th>mean</th>\n",
       "      <td>4.190654e+10</td>\n",
       "      <td>1.861703</td>\n",
       "      <td>2.151932e+05</td>\n",
       "      <td>1.325188e+08</td>\n",
       "      <td>3.399187e+06</td>\n",
       "      <td>1.454919e+07</td>\n",
       "      <td>4.208924e+06</td>\n",
       "      <td>4.217015e+07</td>\n",
       "      <td>4.214337e+07</td>\n",
       "      <td>7.996933e+08</td>\n",
       "      <td>7.987265e+08</td>\n",
       "      <td>9.215363e+08</td>\n",
       "      <td>68.401995</td>\n",
       "      <td>1.896602e+07</td>\n",
       "      <td>5439.453355</td>\n",
       "    </tr>\n",
       "    <tr>\n",
       "      <th>std</th>\n",
       "      <td>2.450976e+12</td>\n",
       "      <td>1.301998</td>\n",
       "      <td>4.122431e+05</td>\n",
       "      <td>1.092214e+09</td>\n",
       "      <td>2.763489e+06</td>\n",
       "      <td>1.127904e+07</td>\n",
       "      <td>3.309613e+06</td>\n",
       "      <td>3.219527e+07</td>\n",
       "      <td>3.198908e+07</td>\n",
       "      <td>6.488938e+08</td>\n",
       "      <td>6.445207e+08</td>\n",
       "      <td>7.236547e+08</td>\n",
       "      <td>33.638603</td>\n",
       "      <td>1.083964e+07</td>\n",
       "      <td>7096.272208</td>\n",
       "    </tr>\n",
       "    <tr>\n",
       "      <th>min</th>\n",
       "      <td>3.360100e+10</td>\n",
       "      <td>1.000000</td>\n",
       "      <td>7.142000e+03</td>\n",
       "      <td>0.000000e+00</td>\n",
       "      <td>1.563000e+03</td>\n",
       "      <td>4.033000e+04</td>\n",
       "      <td>1.817600e+04</td>\n",
       "      <td>7.890300e+04</td>\n",
       "      <td>1.845690e+05</td>\n",
       "      <td>3.063580e+05</td>\n",
       "      <td>1.490450e+05</td>\n",
       "      <td>3.324901e+07</td>\n",
       "      <td>0.000000</td>\n",
       "      <td>8.600000e+01</td>\n",
       "      <td>0.000000</td>\n",
       "    </tr>\n",
       "    <tr>\n",
       "      <th>25%</th>\n",
       "      <td>3.365131e+10</td>\n",
       "      <td>1.000000</td>\n",
       "      <td>8.631900e+04</td>\n",
       "      <td>0.000000e+00</td>\n",
       "      <td>1.571936e+06</td>\n",
       "      <td>7.264048e+06</td>\n",
       "      <td>2.078638e+06</td>\n",
       "      <td>2.174696e+07</td>\n",
       "      <td>2.167131e+07</td>\n",
       "      <td>3.721052e+08</td>\n",
       "      <td>3.694330e+08</td>\n",
       "      <td>4.507441e+08</td>\n",
       "      <td>40.000000</td>\n",
       "      <td>5.659317e+06</td>\n",
       "      <td>90.000000</td>\n",
       "    </tr>\n",
       "    <tr>\n",
       "      <th>50%</th>\n",
       "      <td>3.366371e+10</td>\n",
       "      <td>1.000000</td>\n",
       "      <td>1.389980e+05</td>\n",
       "      <td>3.810350e+04</td>\n",
       "      <td>2.844759e+06</td>\n",
       "      <td>1.160609e+07</td>\n",
       "      <td>3.403746e+06</td>\n",
       "      <td>3.310844e+07</td>\n",
       "      <td>3.306172e+07</td>\n",
       "      <td>6.665547e+08</td>\n",
       "      <td>6.644272e+08</td>\n",
       "      <td>7.551151e+08</td>\n",
       "      <td>67.000000</td>\n",
       "      <td>2.590595e+07</td>\n",
       "      <td>124.000000</td>\n",
       "    </tr>\n",
       "    <tr>\n",
       "      <th>75%</th>\n",
       "      <td>3.368352e+10</td>\n",
       "      <td>2.000000</td>\n",
       "      <td>2.498860e+05</td>\n",
       "      <td>5.366502e+06</td>\n",
       "      <td>4.416689e+06</td>\n",
       "      <td>1.859835e+07</td>\n",
       "      <td>5.384933e+06</td>\n",
       "      <td>5.355146e+07</td>\n",
       "      <td>5.377733e+07</td>\n",
       "      <td>1.032671e+09</td>\n",
       "      <td>1.037075e+09</td>\n",
       "      <td>1.183905e+09</td>\n",
       "      <td>93.000000</td>\n",
       "      <td>2.590595e+07</td>\n",
       "      <td>15081.812241</td>\n",
       "    </tr>\n",
       "    <tr>\n",
       "      <th>max</th>\n",
       "      <td>8.823971e+14</td>\n",
       "      <td>18.000000</td>\n",
       "      <td>1.855375e+07</td>\n",
       "      <td>7.302069e+10</td>\n",
       "      <td>4.337478e+07</td>\n",
       "      <td>1.521919e+08</td>\n",
       "      <td>4.241878e+07</td>\n",
       "      <td>4.529588e+08</td>\n",
       "      <td>3.995191e+08</td>\n",
       "      <td>7.749432e+09</td>\n",
       "      <td>8.167878e+09</td>\n",
       "      <td>8.846226e+09</td>\n",
       "      <td>123.444694</td>\n",
       "      <td>2.590595e+07</td>\n",
       "      <td>22402.000000</td>\n",
       "    </tr>\n",
       "  </tbody>\n",
       "</table>\n",
       "</div>"
      ],
      "text/plain": [
       "       MSISDN/Number  Number of sessions     Dur. (ms)  HTTP (Bytes)  \\\n",
       "count   1.485060e+05       148506.000000  1.485060e+05  1.485060e+05   \n",
       "mean    4.190654e+10            1.861703  2.151932e+05  1.325188e+08   \n",
       "std     2.450976e+12            1.301998  4.122431e+05  1.092214e+09   \n",
       "min     3.360100e+10            1.000000  7.142000e+03  0.000000e+00   \n",
       "25%     3.365131e+10            1.000000  8.631900e+04  0.000000e+00   \n",
       "50%     3.366371e+10            1.000000  1.389980e+05  3.810350e+04   \n",
       "75%     3.368352e+10            2.000000  2.498860e+05  5.366502e+06   \n",
       "max     8.823971e+14           18.000000  1.855375e+07  7.302069e+10   \n",
       "\n",
       "       Social Media (Bytes)  Google (Bytes)  Email (Bytes)  Youtube (Bytes)  \\\n",
       "count          1.485060e+05    1.485060e+05   1.485060e+05     1.485060e+05   \n",
       "mean           3.399187e+06    1.454919e+07   4.208924e+06     4.217015e+07   \n",
       "std            2.763489e+06    1.127904e+07   3.309613e+06     3.219527e+07   \n",
       "min            1.563000e+03    4.033000e+04   1.817600e+04     7.890300e+04   \n",
       "25%            1.571936e+06    7.264048e+06   2.078638e+06     2.174696e+07   \n",
       "50%            2.844759e+06    1.160609e+07   3.403746e+06     3.310844e+07   \n",
       "75%            4.416689e+06    1.859835e+07   5.384933e+06     5.355146e+07   \n",
       "max            4.337478e+07    1.521919e+08   4.241878e+07     4.529588e+08   \n",
       "\n",
       "       Netflix (Bytes)  Gaming (Bytes)  Other (Bytes)  Total (Bytes)  \\\n",
       "count     1.485060e+05    1.485060e+05   1.485060e+05   1.485060e+05   \n",
       "mean      4.214337e+07    7.996933e+08   7.987265e+08   9.215363e+08   \n",
       "std       3.198908e+07    6.488938e+08   6.445207e+08   7.236547e+08   \n",
       "min       1.845690e+05    3.063580e+05   1.490450e+05   3.324901e+07   \n",
       "25%       2.167131e+07    3.721052e+08   3.694330e+08   4.507441e+08   \n",
       "50%       3.306172e+07    6.665547e+08   6.644272e+08   7.551151e+08   \n",
       "75%       5.377733e+07    1.032671e+09   1.037075e+09   1.183905e+09   \n",
       "max       3.995191e+08    7.749432e+09   8.167878e+09   8.846226e+09   \n",
       "\n",
       "           fixed_RTT     fixed_TCP  fixed_throughput  \n",
       "count  148506.000000  1.485060e+05     148506.000000  \n",
       "mean       68.401995  1.896602e+07       5439.453355  \n",
       "std        33.638603  1.083964e+07       7096.272208  \n",
       "min         0.000000  8.600000e+01          0.000000  \n",
       "25%        40.000000  5.659317e+06         90.000000  \n",
       "50%        67.000000  2.590595e+07        124.000000  \n",
       "75%        93.000000  2.590595e+07      15081.812241  \n",
       "max       123.444694  2.590595e+07      22402.000000  "
      ]
     },
     "execution_count": 95,
     "metadata": {},
     "output_type": "execute_result"
    }
   ],
   "source": [
    "visual_data = pd.merge(data,exp,how='inner',on='MSISDN/Number')"
   ]
  },
  {
   "cell_type": "code",
   "execution_count": 99,
   "metadata": {},
   "outputs": [
    {
     "data": {
      "text/html": [
       "<div>\n",
       "<style scoped>\n",
       "    .dataframe tbody tr th:only-of-type {\n",
       "        vertical-align: middle;\n",
       "    }\n",
       "\n",
       "    .dataframe tbody tr th {\n",
       "        vertical-align: top;\n",
       "    }\n",
       "\n",
       "    .dataframe thead th {\n",
       "        text-align: right;\n",
       "    }\n",
       "</style>\n",
       "<table border=\"1\" class=\"dataframe\">\n",
       "  <thead>\n",
       "    <tr style=\"text-align: right;\">\n",
       "      <th></th>\n",
       "      <th>MSISDN/Number</th>\n",
       "      <th>Number of sessions</th>\n",
       "      <th>Dur. (ms)</th>\n",
       "      <th>HTTP (Bytes)</th>\n",
       "      <th>Social Media (Bytes)</th>\n",
       "      <th>Google (Bytes)</th>\n",
       "      <th>Email (Bytes)</th>\n",
       "      <th>Youtube (Bytes)</th>\n",
       "      <th>Netflix (Bytes)</th>\n",
       "      <th>Gaming (Bytes)</th>\n",
       "      <th>Other (Bytes)</th>\n",
       "      <th>Total (Bytes)</th>\n",
       "      <th>fixed_RTT</th>\n",
       "      <th>fixed_TCP</th>\n",
       "      <th>fixed_throughput</th>\n",
       "    </tr>\n",
       "  </thead>\n",
       "  <tbody>\n",
       "    <tr>\n",
       "      <th>count</th>\n",
       "      <td>1.064710e+05</td>\n",
       "      <td>106471.000000</td>\n",
       "      <td>1.064710e+05</td>\n",
       "      <td>1.064710e+05</td>\n",
       "      <td>1.064710e+05</td>\n",
       "      <td>1.064710e+05</td>\n",
       "      <td>1.064710e+05</td>\n",
       "      <td>1.064710e+05</td>\n",
       "      <td>1.064710e+05</td>\n",
       "      <td>1.064710e+05</td>\n",
       "      <td>1.064710e+05</td>\n",
       "      <td>1.064710e+05</td>\n",
       "      <td>106471.000000</td>\n",
       "      <td>1.064710e+05</td>\n",
       "      <td>106471.000000</td>\n",
       "    </tr>\n",
       "    <tr>\n",
       "      <th>mean</th>\n",
       "      <td>4.515611e+10</td>\n",
       "      <td>1.394802</td>\n",
       "      <td>1.465715e+05</td>\n",
       "      <td>7.555366e+07</td>\n",
       "      <td>2.549791e+06</td>\n",
       "      <td>1.089070e+07</td>\n",
       "      <td>3.151121e+06</td>\n",
       "      <td>3.158172e+07</td>\n",
       "      <td>3.156318e+07</td>\n",
       "      <td>6.002585e+08</td>\n",
       "      <td>5.989493e+08</td>\n",
       "      <td>6.915199e+08</td>\n",
       "      <td>68.150971</td>\n",
       "      <td>1.887998e+07</td>\n",
       "      <td>5329.684393</td>\n",
       "    </tr>\n",
       "    <tr>\n",
       "      <th>std</th>\n",
       "      <td>2.894643e+12</td>\n",
       "      <td>0.806994</td>\n",
       "      <td>1.865627e+05</td>\n",
       "      <td>8.397470e+08</td>\n",
       "      <td>1.909685e+06</td>\n",
       "      <td>7.552384e+06</td>\n",
       "      <td>2.224563e+06</td>\n",
       "      <td>2.131551e+07</td>\n",
       "      <td>2.130939e+07</td>\n",
       "      <td>4.495611e+08</td>\n",
       "      <td>4.492890e+08</td>\n",
       "      <td>4.915267e+08</td>\n",
       "      <td>33.594606</td>\n",
       "      <td>1.092872e+07</td>\n",
       "      <td>7017.884429</td>\n",
       "    </tr>\n",
       "    <tr>\n",
       "      <th>min</th>\n",
       "      <td>3.360100e+10</td>\n",
       "      <td>1.000000</td>\n",
       "      <td>7.142000e+03</td>\n",
       "      <td>0.000000e+00</td>\n",
       "      <td>1.563000e+03</td>\n",
       "      <td>4.033000e+04</td>\n",
       "      <td>1.817600e+04</td>\n",
       "      <td>7.890300e+04</td>\n",
       "      <td>1.845690e+05</td>\n",
       "      <td>3.063580e+05</td>\n",
       "      <td>1.490450e+05</td>\n",
       "      <td>3.324901e+07</td>\n",
       "      <td>0.000000</td>\n",
       "      <td>9.700000e+01</td>\n",
       "      <td>0.000000</td>\n",
       "    </tr>\n",
       "    <tr>\n",
       "      <th>25%</th>\n",
       "      <td>3.365088e+10</td>\n",
       "      <td>1.000000</td>\n",
       "      <td>7.239950e+04</td>\n",
       "      <td>0.000000e+00</td>\n",
       "      <td>1.211936e+06</td>\n",
       "      <td>5.945632e+06</td>\n",
       "      <td>1.675398e+06</td>\n",
       "      <td>1.863663e+07</td>\n",
       "      <td>1.857011e+07</td>\n",
       "      <td>2.882493e+08</td>\n",
       "      <td>2.858747e+08</td>\n",
       "      <td>3.587652e+08</td>\n",
       "      <td>40.000000</td>\n",
       "      <td>5.075918e+06</td>\n",
       "      <td>90.000000</td>\n",
       "    </tr>\n",
       "    <tr>\n",
       "      <th>50%</th>\n",
       "      <td>3.366365e+10</td>\n",
       "      <td>1.000000</td>\n",
       "      <td>1.031370e+05</td>\n",
       "      <td>0.000000e+00</td>\n",
       "      <td>2.305229e+06</td>\n",
       "      <td>9.592577e+06</td>\n",
       "      <td>2.801129e+06</td>\n",
       "      <td>2.681633e+07</td>\n",
       "      <td>2.673116e+07</td>\n",
       "      <td>5.426773e+08</td>\n",
       "      <td>5.401097e+08</td>\n",
       "      <td>6.183269e+08</td>\n",
       "      <td>66.000000</td>\n",
       "      <td>2.590595e+07</td>\n",
       "      <td>129.000000</td>\n",
       "    </tr>\n",
       "    <tr>\n",
       "      <th>75%</th>\n",
       "      <td>3.368345e+10</td>\n",
       "      <td>2.000000</td>\n",
       "      <td>1.727990e+05</td>\n",
       "      <td>1.729184e+06</td>\n",
       "      <td>3.309043e+06</td>\n",
       "      <td>1.322318e+07</td>\n",
       "      <td>3.848998e+06</td>\n",
       "      <td>3.795666e+07</td>\n",
       "      <td>3.800233e+07</td>\n",
       "      <td>7.777045e+08</td>\n",
       "      <td>7.756466e+08</td>\n",
       "      <td>8.578732e+08</td>\n",
       "      <td>91.000000</td>\n",
       "      <td>2.590595e+07</td>\n",
       "      <td>15081.812241</td>\n",
       "    </tr>\n",
       "    <tr>\n",
       "      <th>max</th>\n",
       "      <td>8.823971e+14</td>\n",
       "      <td>18.000000</td>\n",
       "      <td>1.855375e+07</td>\n",
       "      <td>7.302069e+10</td>\n",
       "      <td>4.337478e+07</td>\n",
       "      <td>1.521919e+08</td>\n",
       "      <td>4.241878e+07</td>\n",
       "      <td>4.529588e+08</td>\n",
       "      <td>3.995191e+08</td>\n",
       "      <td>7.749432e+09</td>\n",
       "      <td>8.167878e+09</td>\n",
       "      <td>8.846226e+09</td>\n",
       "      <td>123.444694</td>\n",
       "      <td>2.590595e+07</td>\n",
       "      <td>22402.000000</td>\n",
       "    </tr>\n",
       "  </tbody>\n",
       "</table>\n",
       "</div>"
      ],
      "text/plain": [
       "       MSISDN/Number  Number of sessions     Dur. (ms)  HTTP (Bytes)  \\\n",
       "count   1.064710e+05       106471.000000  1.064710e+05  1.064710e+05   \n",
       "mean    4.515611e+10            1.394802  1.465715e+05  7.555366e+07   \n",
       "std     2.894643e+12            0.806994  1.865627e+05  8.397470e+08   \n",
       "min     3.360100e+10            1.000000  7.142000e+03  0.000000e+00   \n",
       "25%     3.365088e+10            1.000000  7.239950e+04  0.000000e+00   \n",
       "50%     3.366365e+10            1.000000  1.031370e+05  0.000000e+00   \n",
       "75%     3.368345e+10            2.000000  1.727990e+05  1.729184e+06   \n",
       "max     8.823971e+14           18.000000  1.855375e+07  7.302069e+10   \n",
       "\n",
       "       Social Media (Bytes)  Google (Bytes)  Email (Bytes)  Youtube (Bytes)  \\\n",
       "count          1.064710e+05    1.064710e+05   1.064710e+05     1.064710e+05   \n",
       "mean           2.549791e+06    1.089070e+07   3.151121e+06     3.158172e+07   \n",
       "std            1.909685e+06    7.552384e+06   2.224563e+06     2.131551e+07   \n",
       "min            1.563000e+03    4.033000e+04   1.817600e+04     7.890300e+04   \n",
       "25%            1.211936e+06    5.945632e+06   1.675398e+06     1.863663e+07   \n",
       "50%            2.305229e+06    9.592577e+06   2.801129e+06     2.681633e+07   \n",
       "75%            3.309043e+06    1.322318e+07   3.848998e+06     3.795666e+07   \n",
       "max            4.337478e+07    1.521919e+08   4.241878e+07     4.529588e+08   \n",
       "\n",
       "       Netflix (Bytes)  Gaming (Bytes)  Other (Bytes)  Total (Bytes)  \\\n",
       "count     1.064710e+05    1.064710e+05   1.064710e+05   1.064710e+05   \n",
       "mean      3.156318e+07    6.002585e+08   5.989493e+08   6.915199e+08   \n",
       "std       2.130939e+07    4.495611e+08   4.492890e+08   4.915267e+08   \n",
       "min       1.845690e+05    3.063580e+05   1.490450e+05   3.324901e+07   \n",
       "25%       1.857011e+07    2.882493e+08   2.858747e+08   3.587652e+08   \n",
       "50%       2.673116e+07    5.426773e+08   5.401097e+08   6.183269e+08   \n",
       "75%       3.800233e+07    7.777045e+08   7.756466e+08   8.578732e+08   \n",
       "max       3.995191e+08    7.749432e+09   8.167878e+09   8.846226e+09   \n",
       "\n",
       "           fixed_RTT     fixed_TCP  fixed_throughput  \n",
       "count  106471.000000  1.064710e+05     106471.000000  \n",
       "mean       68.150971  1.887998e+07       5329.684393  \n",
       "std        33.594606  1.092872e+07       7017.884429  \n",
       "min         0.000000  9.700000e+01          0.000000  \n",
       "25%        40.000000  5.075918e+06         90.000000  \n",
       "50%        66.000000  2.590595e+07        129.000000  \n",
       "75%        91.000000  2.590595e+07      15081.812241  \n",
       "max       123.444694  2.590595e+07      22402.000000  "
      ]
     },
     "execution_count": 99,
     "metadata": {},
     "output_type": "execute_result"
    }
   ],
   "source": [
    "visual_data.drop_duplicates(subset='MSISDN/Number',keep='first',inplace=True)\n",
    "visual_data.describe()"
   ]
  },
  {
   "cell_type": "code",
   "execution_count": 100,
   "metadata": {},
   "outputs": [],
   "source": [
    "visual_data.to_csv('../data/visual_data.csv', index=False)"
   ]
  }
 ],
 "metadata": {
  "kernelspec": {
   "display_name": "Python 3",
   "language": "python",
   "name": "python3"
  },
  "language_info": {
   "codemirror_mode": {
    "name": "ipython",
    "version": 3
   },
   "file_extension": ".py",
   "mimetype": "text/x-python",
   "name": "python",
   "nbconvert_exporter": "python",
   "pygments_lexer": "ipython3",
   "version": "3.7.6"
  }
 },
 "nbformat": 4,
 "nbformat_minor": 4
}
